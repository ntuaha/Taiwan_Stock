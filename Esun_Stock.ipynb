{
 "cells": [
  {
   "cell_type": "code",
   "execution_count": 39,
   "metadata": {},
   "outputs": [],
   "source": [
    "import pandas as pd\n",
    "import numpy as np"
   ]
  },
  {
   "cell_type": "markdown",
   "metadata": {},
   "source": [
    "# 計算Y"
   ]
  },
  {
   "cell_type": "code",
   "execution_count": 27,
   "metadata": {},
   "outputs": [],
   "source": [
    "df=pd.read_excel('Y_大盤收盤價.xlsx')"
   ]
  },
  {
   "cell_type": "code",
   "execution_count": 28,
   "metadata": {},
   "outputs": [],
   "source": [
    "df=df.reset_index().rename(index=str,columns={'index':'Time_index','未調整收盤價(元)':'Target'})"
   ]
  },
  {
   "cell_type": "code",
   "execution_count": 30,
   "metadata": {},
   "outputs": [],
   "source": [
    "df['tomarrow'] = df.Time_index+1"
   ]
  },
  {
   "cell_type": "code",
   "execution_count": 32,
   "metadata": {},
   "outputs": [
    {
     "data": {
      "text/html": [
       "<div>\n",
       "<style scoped>\n",
       "    .dataframe tbody tr th:only-of-type {\n",
       "        vertical-align: middle;\n",
       "    }\n",
       "\n",
       "    .dataframe tbody tr th {\n",
       "        vertical-align: top;\n",
       "    }\n",
       "\n",
       "    .dataframe thead th {\n",
       "        text-align: right;\n",
       "    }\n",
       "</style>\n",
       "<table border=\"1\" class=\"dataframe\">\n",
       "  <thead>\n",
       "    <tr style=\"text-align: right;\">\n",
       "      <th></th>\n",
       "      <th>Time_index</th>\n",
       "      <th>證券代碼</th>\n",
       "      <th>日期</th>\n",
       "      <th>近三月最高收盤價(元)</th>\n",
       "      <th>近六月最高收盤價(元)</th>\n",
       "      <th>近九月最高收盤價(元)</th>\n",
       "      <th>近一年最高收盤價(元)</th>\n",
       "      <th>近三月最低收盤價(元)</th>\n",
       "      <th>近六月最低收盤價(元)</th>\n",
       "      <th>近九月最低收盤價(元)</th>\n",
       "      <th>...</th>\n",
       "      <th>55日均值</th>\n",
       "      <th>60日均值</th>\n",
       "      <th>65日均值</th>\n",
       "      <th>72日均值</th>\n",
       "      <th>125日均值</th>\n",
       "      <th>250日均值</th>\n",
       "      <th>55日最大量</th>\n",
       "      <th>65日最大量</th>\n",
       "      <th>240日最大量</th>\n",
       "      <th>tomarrow</th>\n",
       "    </tr>\n",
       "  </thead>\n",
       "  <tbody>\n",
       "    <tr>\n",
       "      <th>0</th>\n",
       "      <td>0</td>\n",
       "      <td>Y9999 加權指數</td>\n",
       "      <td>2018-06-29</td>\n",
       "      <td>11251.75</td>\n",
       "      <td>11253.11</td>\n",
       "      <td>11253.11</td>\n",
       "      <td>11253.11</td>\n",
       "      <td>10488.58</td>\n",
       "      <td>10371.75</td>\n",
       "      <td>10355.76</td>\n",
       "      <td>...</td>\n",
       "      <td>147610233</td>\n",
       "      <td>145761098</td>\n",
       "      <td>143143720</td>\n",
       "      <td>142350973</td>\n",
       "      <td>137596203</td>\n",
       "      <td>128114611</td>\n",
       "      <td>8683904</td>\n",
       "      <td>8683904</td>\n",
       "      <td>10480219</td>\n",
       "      <td>1</td>\n",
       "    </tr>\n",
       "    <tr>\n",
       "      <th>1</th>\n",
       "      <td>1</td>\n",
       "      <td>Y9999 加權指數</td>\n",
       "      <td>2018-06-28</td>\n",
       "      <td>11251.75</td>\n",
       "      <td>11253.11</td>\n",
       "      <td>11253.11</td>\n",
       "      <td>11253.11</td>\n",
       "      <td>10488.58</td>\n",
       "      <td>10371.75</td>\n",
       "      <td>10329.94</td>\n",
       "      <td>...</td>\n",
       "      <td>147399754</td>\n",
       "      <td>144680829</td>\n",
       "      <td>142823335</td>\n",
       "      <td>141953131</td>\n",
       "      <td>137294418</td>\n",
       "      <td>128088339</td>\n",
       "      <td>8683904</td>\n",
       "      <td>8683904</td>\n",
       "      <td>10480219</td>\n",
       "      <td>2</td>\n",
       "    </tr>\n",
       "    <tr>\n",
       "      <th>2</th>\n",
       "      <td>2</td>\n",
       "      <td>Y9999 加權指數</td>\n",
       "      <td>2018-06-27</td>\n",
       "      <td>11251.75</td>\n",
       "      <td>11253.11</td>\n",
       "      <td>11253.11</td>\n",
       "      <td>11253.11</td>\n",
       "      <td>10488.58</td>\n",
       "      <td>10371.75</td>\n",
       "      <td>10296.45</td>\n",
       "      <td>...</td>\n",
       "      <td>147602938</td>\n",
       "      <td>144380951</td>\n",
       "      <td>143081254</td>\n",
       "      <td>141773669</td>\n",
       "      <td>137131863</td>\n",
       "      <td>127921910</td>\n",
       "      <td>8683904</td>\n",
       "      <td>8683904</td>\n",
       "      <td>10480219</td>\n",
       "      <td>3</td>\n",
       "    </tr>\n",
       "    <tr>\n",
       "      <th>3</th>\n",
       "      <td>3</td>\n",
       "      <td>Y9999 加權指數</td>\n",
       "      <td>2018-06-26</td>\n",
       "      <td>11251.75</td>\n",
       "      <td>11253.11</td>\n",
       "      <td>11253.11</td>\n",
       "      <td>11253.11</td>\n",
       "      <td>10488.58</td>\n",
       "      <td>10371.75</td>\n",
       "      <td>10296.45</td>\n",
       "      <td>...</td>\n",
       "      <td>147297078</td>\n",
       "      <td>143856431</td>\n",
       "      <td>143090370</td>\n",
       "      <td>141565407</td>\n",
       "      <td>136706571</td>\n",
       "      <td>127716955</td>\n",
       "      <td>8683904</td>\n",
       "      <td>8683904</td>\n",
       "      <td>10480219</td>\n",
       "      <td>4</td>\n",
       "    </tr>\n",
       "    <tr>\n",
       "      <th>4</th>\n",
       "      <td>4</td>\n",
       "      <td>Y9999 加權指數</td>\n",
       "      <td>2018-06-25</td>\n",
       "      <td>11251.75</td>\n",
       "      <td>11253.11</td>\n",
       "      <td>11253.11</td>\n",
       "      <td>11253.11</td>\n",
       "      <td>10488.58</td>\n",
       "      <td>10371.75</td>\n",
       "      <td>10257.02</td>\n",
       "      <td>...</td>\n",
       "      <td>146827965</td>\n",
       "      <td>143436359</td>\n",
       "      <td>142932861</td>\n",
       "      <td>141539287</td>\n",
       "      <td>136575790</td>\n",
       "      <td>127587333</td>\n",
       "      <td>8683904</td>\n",
       "      <td>8683904</td>\n",
       "      <td>10480219</td>\n",
       "      <td>5</td>\n",
       "    </tr>\n",
       "  </tbody>\n",
       "</table>\n",
       "<p>5 rows × 64 columns</p>\n",
       "</div>"
      ],
      "text/plain": [
       "   Time_index        證券代碼         日期  近三月最高收盤價(元)  近六月最高收盤價(元)  近九月最高收盤價(元)  \\\n",
       "0           0  Y9999 加權指數 2018-06-29     11251.75     11253.11     11253.11   \n",
       "1           1  Y9999 加權指數 2018-06-28     11251.75     11253.11     11253.11   \n",
       "2           2  Y9999 加權指數 2018-06-27     11251.75     11253.11     11253.11   \n",
       "3           3  Y9999 加權指數 2018-06-26     11251.75     11253.11     11253.11   \n",
       "4           4  Y9999 加權指數 2018-06-25     11251.75     11253.11     11253.11   \n",
       "\n",
       "   近一年最高收盤價(元)  近三月最低收盤價(元)  近六月最低收盤價(元)  近九月最低收盤價(元)    ...         55日均值  \\\n",
       "0     11253.11     10488.58     10371.75     10355.76    ...     147610233   \n",
       "1     11253.11     10488.58     10371.75     10329.94    ...     147399754   \n",
       "2     11253.11     10488.58     10371.75     10296.45    ...     147602938   \n",
       "3     11253.11     10488.58     10371.75     10296.45    ...     147297078   \n",
       "4     11253.11     10488.58     10371.75     10257.02    ...     146827965   \n",
       "\n",
       "       60日均值      65日均值      72日均值     125日均值     250日均值   55日最大量   65日最大量  \\\n",
       "0  145761098  143143720  142350973  137596203  128114611  8683904  8683904   \n",
       "1  144680829  142823335  141953131  137294418  128088339  8683904  8683904   \n",
       "2  144380951  143081254  141773669  137131863  127921910  8683904  8683904   \n",
       "3  143856431  143090370  141565407  136706571  127716955  8683904  8683904   \n",
       "4  143436359  142932861  141539287  136575790  127587333  8683904  8683904   \n",
       "\n",
       "    240日最大量  tomarrow  \n",
       "0  10480219         1  \n",
       "1  10480219         2  \n",
       "2  10480219         3  \n",
       "3  10480219         4  \n",
       "4  10480219         5  \n",
       "\n",
       "[5 rows x 64 columns]"
      ]
     },
     "execution_count": 32,
     "metadata": {},
     "output_type": "execute_result"
    }
   ],
   "source": [
    "df.head()"
   ]
  },
  {
   "cell_type": "code",
   "execution_count": 34,
   "metadata": {},
   "outputs": [],
   "source": [
    "target_df=pd.merge(df[['日期','Target','Time_index']],df[['Target','tomarrow']].rename(index=str,columns={'Target':'TomTarget'}),\n",
    "         how='inner',left_on=['Time_index'],right_on=['tomarrow']).drop([])"
   ]
  },
  {
   "cell_type": "code",
   "execution_count": 40,
   "metadata": {},
   "outputs": [],
   "source": [
    "target_df['TomarrowRatio']=target_df.TomTarget/target_df.Target\n",
    "target_df['Tom_Ind'] = np.where(target_df.TomarrowRatio>=1.005,1,0)"
   ]
  },
  {
   "cell_type": "code",
   "execution_count": 43,
   "metadata": {},
   "outputs": [],
   "source": [
    "target_df.to_pickle('Y_Target.p')"
   ]
  },
  {
   "cell_type": "markdown",
   "metadata": {},
   "source": [
    "# 加入總經指數"
   ]
  },
  {
   "cell_type": "code",
   "execution_count": 63,
   "metadata": {},
   "outputs": [],
   "source": [
    "from pandas.tseries.offsets import MonthBegin"
   ]
  },
  {
   "cell_type": "code",
   "execution_count": 51,
   "metadata": {},
   "outputs": [],
   "source": [
    "Overall_eco_row = pd.read_excel('1_總經指數_12_1806.xlsx')"
   ]
  },
  {
   "cell_type": "code",
   "execution_count": 126,
   "metadata": {},
   "outputs": [],
   "source": [
    "Overall_eco=pd.DataFrame(data=Overall_eco_row.年月.unique(),columns=['日期'])"
   ]
  },
  {
   "cell_type": "code",
   "execution_count": 191,
   "metadata": {},
   "outputs": [],
   "source": [
    "Overall_eco['Mon_ST'] = (Overall_eco.日期) - pd.tseries.offsets.MonthBegin(n=1)"
   ]
  },
  {
   "cell_type": "code",
   "execution_count": 192,
   "metadata": {},
   "outputs": [
    {
     "data": {
      "text/plain": [
       "(17725, 4)"
      ]
     },
     "execution_count": 192,
     "metadata": {},
     "output_type": "execute_result"
    }
   ],
   "source": [
    "Overall_eco_row.shape"
   ]
  },
  {
   "cell_type": "code",
   "execution_count": 193,
   "metadata": {},
   "outputs": [],
   "source": [
    "ECO_CODE_CNT= Overall_eco_row[['代碼','年月']].groupby(['代碼']).count().reset_index()\n",
    "OVECO_COL_List=ECO_CODE_CNT.代碼.iloc[np.where(ECO_CODE_CNT.年月>=50)]\n",
    "#OVECO_COL_List=Overall_eco_row.代碼.unique()"
   ]
  },
  {
   "cell_type": "code",
   "execution_count": 194,
   "metadata": {},
   "outputs": [],
   "source": [
    "code_list=[]\n",
    "for col in OVECO_COL_List:\n",
    "    new_col='OV_'+col[0:col.find(' ')]\n",
    "    temp_data=Overall_eco_row.iloc[np.where(Overall_eco_row.代碼==col)].reset_index().drop(['index'],\n",
    "                axis=1).rename(index=str,columns={'數值':new_col})\n",
    "    cod_list_temp=(new_col,col[col.find(' ')+1:])\n",
    "    code_list.append(cod_list_temp)\n",
    "    temp_data['Mon_ST'] = (temp_data.年月) - pd.tseries.offsets.MonthBegin(n=1)\n",
    "    Overall_eco=pd.merge(Overall_eco,temp_data[['Mon_ST',new_col]],how='left',on=['Mon_ST'])"
   ]
  },
  {
   "cell_type": "code",
   "execution_count": 195,
   "metadata": {},
   "outputs": [],
   "source": [
    "OV_Code_Diction=pd.DataFrame(data=code_list,columns=['CODE','DESC'])"
   ]
  },
  {
   "cell_type": "code",
   "execution_count": 196,
   "metadata": {},
   "outputs": [
    {
     "data": {
      "text/html": [
       "<div>\n",
       "<style scoped>\n",
       "    .dataframe tbody tr th:only-of-type {\n",
       "        vertical-align: middle;\n",
       "    }\n",
       "\n",
       "    .dataframe tbody tr th {\n",
       "        vertical-align: top;\n",
       "    }\n",
       "\n",
       "    .dataframe thead th {\n",
       "        text-align: right;\n",
       "    }\n",
       "</style>\n",
       "<table border=\"1\" class=\"dataframe\">\n",
       "  <thead>\n",
       "    <tr style=\"text-align: right;\">\n",
       "      <th></th>\n",
       "      <th>日期</th>\n",
       "      <th>Mon_ST</th>\n",
       "      <th>OV_CA05</th>\n",
       "      <th>OV_CA07G1</th>\n",
       "      <th>OV_CA2402</th>\n",
       "      <th>OV_CA29</th>\n",
       "      <th>OV_CA2913</th>\n",
       "      <th>OV_CA2930</th>\n",
       "      <th>OV_CA2965</th>\n",
       "      <th>OV_CA33</th>\n",
       "      <th>...</th>\n",
       "      <th>OV_PA0111</th>\n",
       "      <th>OV_PA0118</th>\n",
       "      <th>OV_PA0119</th>\n",
       "      <th>OV_PA0205</th>\n",
       "      <th>OV_PA0207</th>\n",
       "      <th>OV_PA0208</th>\n",
       "      <th>OV_PA0209</th>\n",
       "      <th>OV_TC0125</th>\n",
       "      <th>OV_TC0220</th>\n",
       "      <th>OV_TC0225</th>\n",
       "    </tr>\n",
       "  </thead>\n",
       "  <tbody>\n",
       "    <tr>\n",
       "      <th>0</th>\n",
       "      <td>2018-06-29</td>\n",
       "      <td>2018-06-01</td>\n",
       "      <td>4.0</td>\n",
       "      <td>9.5</td>\n",
       "      <td>2.9</td>\n",
       "      <td>501612.0</td>\n",
       "      <td>1177.0</td>\n",
       "      <td>1.34</td>\n",
       "      <td>1314235.0</td>\n",
       "      <td>127.9</td>\n",
       "      <td>...</td>\n",
       "      <td>NaN</td>\n",
       "      <td>102.63</td>\n",
       "      <td>1.78</td>\n",
       "      <td>6.61</td>\n",
       "      <td>105.41</td>\n",
       "      <td>105.45</td>\n",
       "      <td>6.53</td>\n",
       "      <td>7.1</td>\n",
       "      <td>687262.0</td>\n",
       "      <td>14.6</td>\n",
       "    </tr>\n",
       "    <tr>\n",
       "      <th>1</th>\n",
       "      <td>2018-05-31</td>\n",
       "      <td>2018-05-01</td>\n",
       "      <td>3.8</td>\n",
       "      <td>11.4</td>\n",
       "      <td>2.8</td>\n",
       "      <td>498401.0</td>\n",
       "      <td>1329.0</td>\n",
       "      <td>1.35</td>\n",
       "      <td>1324347.0</td>\n",
       "      <td>128.8</td>\n",
       "      <td>...</td>\n",
       "      <td>NaN</td>\n",
       "      <td>102.37</td>\n",
       "      <td>1.60</td>\n",
       "      <td>5.58</td>\n",
       "      <td>104.56</td>\n",
       "      <td>104.77</td>\n",
       "      <td>5.37</td>\n",
       "      <td>11.8</td>\n",
       "      <td>732751.0</td>\n",
       "      <td>10.4</td>\n",
       "    </tr>\n",
       "    <tr>\n",
       "      <th>2</th>\n",
       "      <td>2018-04-30</td>\n",
       "      <td>2018-04-01</td>\n",
       "      <td>3.9</td>\n",
       "      <td>9.5</td>\n",
       "      <td>2.5</td>\n",
       "      <td>496409.0</td>\n",
       "      <td>1276.0</td>\n",
       "      <td>1.35</td>\n",
       "      <td>1314692.0</td>\n",
       "      <td>125.6</td>\n",
       "      <td>...</td>\n",
       "      <td>NaN</td>\n",
       "      <td>102.53</td>\n",
       "      <td>1.83</td>\n",
       "      <td>2.48</td>\n",
       "      <td>102.83</td>\n",
       "      <td>103.27</td>\n",
       "      <td>2.77</td>\n",
       "      <td>5.1</td>\n",
       "      <td>657376.0</td>\n",
       "      <td>0.7</td>\n",
       "    </tr>\n",
       "  </tbody>\n",
       "</table>\n",
       "<p>3 rows × 192 columns</p>\n",
       "</div>"
      ],
      "text/plain": [
       "          日期     Mon_ST  OV_CA05  OV_CA07G1  OV_CA2402   OV_CA29  OV_CA2913  \\\n",
       "0 2018-06-29 2018-06-01      4.0        9.5        2.9  501612.0     1177.0   \n",
       "1 2018-05-31 2018-05-01      3.8       11.4        2.8  498401.0     1329.0   \n",
       "2 2018-04-30 2018-04-01      3.9        9.5        2.5  496409.0     1276.0   \n",
       "\n",
       "   OV_CA2930  OV_CA2965  OV_CA33    ...      OV_PA0111  OV_PA0118  OV_PA0119  \\\n",
       "0       1.34  1314235.0    127.9    ...            NaN     102.63       1.78   \n",
       "1       1.35  1324347.0    128.8    ...            NaN     102.37       1.60   \n",
       "2       1.35  1314692.0    125.6    ...            NaN     102.53       1.83   \n",
       "\n",
       "   OV_PA0205  OV_PA0207  OV_PA0208  OV_PA0209  OV_TC0125  OV_TC0220  OV_TC0225  \n",
       "0       6.61     105.41     105.45       6.53        7.1   687262.0       14.6  \n",
       "1       5.58     104.56     104.77       5.37       11.8   732751.0       10.4  \n",
       "2       2.48     102.83     103.27       2.77        5.1   657376.0        0.7  \n",
       "\n",
       "[3 rows x 192 columns]"
      ]
     },
     "execution_count": 196,
     "metadata": {},
     "output_type": "execute_result"
    }
   ],
   "source": [
    "Overall_eco.head(3)"
   ]
  },
  {
   "cell_type": "markdown",
   "metadata": {},
   "source": [
    "# 加入市場資訊"
   ]
  },
  {
   "cell_type": "code",
   "execution_count": 142,
   "metadata": {},
   "outputs": [],
   "source": [
    "marketing = pd.read_excel('0_市場統計資訊_12_1806.xlsx')"
   ]
  },
  {
   "cell_type": "code",
   "execution_count": 146,
   "metadata": {},
   "outputs": [
    {
     "name": "stdout",
     "output_type": "stream",
     "text": [
      "(19165, 23) 2012-01-02 00:00:00 2018-06-29 00:00:00\n"
     ]
    }
   ],
   "source": [
    "print(marketing.shape,marketing.年月日.min(),marketing.年月日.max())"
   ]
  },
  {
   "cell_type": "code",
   "execution_count": 153,
   "metadata": {},
   "outputs": [
    {
     "data": {
      "text/plain": [
       "array(['OTC991 上櫃-整體市場', 'OTC992 上櫃-股票', 'OTC993 上櫃-基金', 'OTC994 上櫃-認購權證',\n",
       "       'OTC995 上櫃-認售權證', 'REG991 興櫃-整體市場', 'REG996 興櫃-LOF',\n",
       "       'REG997 興櫃-黃金現貨', 'Y99991 上市-整體市場', 'Y99992 上市-股票', 'Y99993 上市-基金',\n",
       "       'Y99994 上市-認購權證', 'Y99995 上市-認售權證'], dtype=object)"
      ]
     },
     "execution_count": 153,
     "metadata": {},
     "output_type": "execute_result"
    }
   ],
   "source": [
    "marketing_group = ['REG997 興櫃-黃金現貨', 'Y99991 上市-整體市場', 'Y99992 上市-股票', 'Y99993 上市-基金']\n",
    "marketing.證券代碼.unique()"
   ]
  },
  {
   "cell_type": "code",
   "execution_count": 154,
   "metadata": {
    "scrolled": true
   },
   "outputs": [
    {
     "data": {
      "text/plain": [
       "Index(['證券代碼', '年月日', '成交金額', '成交數量', '成交筆數', '總委買數量', '總委買筆數', '總委賣數量',\n",
       "       '總委賣筆數', '漲停委買數量', '漲停委買筆數', '漲停委賣數量', '漲停委賣筆數', '跌停委買數量', '跌停委買筆數',\n",
       "       '跌停委賣數量', '跌停委賣筆數', '上漲家數', '下跌家數', '持平家數', '未成交家數', '漲停家數', '跌停家數'],\n",
       "      dtype='object')"
      ]
     },
     "execution_count": 154,
     "metadata": {},
     "output_type": "execute_result"
    }
   ],
   "source": [
    "marketing_col = marketing.columns.drop(['證券代碼','年月日','成交金額'])\n",
    "marketing.columns"
   ]
  },
  {
   "cell_type": "code",
   "execution_count": 187,
   "metadata": {},
   "outputs": [
    {
     "data": {
      "text/plain": [
       "array(['2018-06-29T00:00:00.000000000', '2018-06-28T00:00:00.000000000',\n",
       "       '2018-06-27T00:00:00.000000000', ...,\n",
       "       '2012-01-04T00:00:00.000000000', '2012-01-03T00:00:00.000000000',\n",
       "       '2012-01-02T00:00:00.000000000'], dtype='datetime64[ns]')"
      ]
     },
     "execution_count": 187,
     "metadata": {},
     "output_type": "execute_result"
    }
   ],
   "source": [
    "marketing.年月日.unique()"
   ]
  },
  {
   "cell_type": "code",
   "execution_count": 190,
   "metadata": {},
   "outputs": [],
   "source": [
    "Overall_eco=pd.DataFrame(data=Overall_eco_row.年月.unique(),columns=['日期'])"
   ]
  },
  {
   "cell_type": "code",
   "execution_count": 210,
   "metadata": {},
   "outputs": [],
   "source": [
    "marketing_var = pd.DataFrame(marketing.年月日.unique(),columns=['年月日'])"
   ]
  },
  {
   "cell_type": "code",
   "execution_count": 160,
   "metadata": {},
   "outputs": [],
   "source": [
    "def bilist_to_dec(key_col,val_col):\n",
    "    del_name = {}\n",
    "    for i in range(len(key_col)):\n",
    "        del_name[key_col[i]] =val_col[i]\n",
    "    return del_name  "
   ]
  },
  {
   "cell_type": "code",
   "execution_count": 214,
   "metadata": {},
   "outputs": [],
   "source": [
    "for group in marketing_group:\n",
    "    \n",
    "    new_name = [group[0:group.find(' ')]+'_'+str(t) for t in marketing.iloc[:,2:].columns]\n",
    "    temp_data = marketing.iloc[np.where(marketing.證券代碼 == group)].rename(index=str,\n",
    "            columns=bilist_to_dec(marketing.iloc[:,2:].columns,new_name)).reset_index().drop(['證券代碼','index'],axis=1)\n",
    "    marketing_var = pd.merge(marketing_var,temp_data,how='left',on=['年月日'])\n",
    "    "
   ]
  },
  {
   "cell_type": "markdown",
   "metadata": {},
   "source": [
    "# 期貨三大法人交易"
   ]
  },
  {
   "cell_type": "code",
   "execution_count": 139,
   "metadata": {},
   "outputs": [],
   "source": [
    "triple_c=pd.read_excel('2_期貨三大法人交易.xlsx')"
   ]
  },
  {
   "cell_type": "code",
   "execution_count": 141,
   "metadata": {},
   "outputs": [
    {
     "name": "stdout",
     "output_type": "stream",
     "text": [
      "2013-11-26 00:00:00 2016-06-30 00:00:00\n"
     ]
    }
   ],
   "source": [
    "print(triple_c.年月日.min(),triple_c.年月日.max())"
   ]
  },
  {
   "cell_type": "markdown",
   "metadata": {},
   "source": [
    "# 資料合併"
   ]
  },
  {
   "cell_type": "code",
   "execution_count": 238,
   "metadata": {},
   "outputs": [],
   "source": [
    "#marketing_var.isnull().sum()"
   ]
  },
  {
   "cell_type": "code",
   "execution_count": 289,
   "metadata": {},
   "outputs": [],
   "source": [
    "model_data =pd.merge(target_df[['日期','Tom_Ind']],marketing_var,how='left',left_on=['日期'],right_on=['年月日']).drop(['年月日'],axis=1)\n",
    "model_data['Mon_ST'] = (model_data.日期) - pd.tseries.offsets.MonthBegin(n=2)\n",
    "model_data=pd.merge(model_data,Overall_eco.drop(['日期'],axis=1),how='left',on=['Mon_ST']).drop(['Mon_ST'],axis=1)"
   ]
  },
  {
   "cell_type": "code",
   "execution_count": 290,
   "metadata": {},
   "outputs": [
    {
     "data": {
      "text/plain": [
       "(1595, 276)"
      ]
     },
     "execution_count": 290,
     "metadata": {},
     "output_type": "execute_result"
    }
   ],
   "source": [
    "model_data.shape"
   ]
  },
  {
   "cell_type": "code",
   "execution_count": 291,
   "metadata": {},
   "outputs": [],
   "source": [
    "null_cnt = pd.DataFrame(model_data.isnull().sum(),columns=['CNT'])\n",
    "drop_col = model_data.columns[np.where(null_cnt.CNT>300)]\n",
    "model_data=model_data.drop(drop_col,axis=1)"
   ]
  },
  {
   "cell_type": "code",
   "execution_count": 292,
   "metadata": {},
   "outputs": [],
   "source": [
    "#Overall_eco"
   ]
  },
  {
   "cell_type": "code",
   "execution_count": 293,
   "metadata": {},
   "outputs": [],
   "source": [
    "#null_cnt"
   ]
  },
  {
   "cell_type": "code",
   "execution_count": 294,
   "metadata": {},
   "outputs": [],
   "source": [
    "from sklearn.ensemble import ExtraTreesClassifier"
   ]
  },
  {
   "cell_type": "code",
   "execution_count": 295,
   "metadata": {},
   "outputs": [],
   "source": [
    "train_model_data = model_data.iloc[np.where(model_data.日期< pd.Timestamp('2018-01-01 00:00:00') )].reset_index().drop(['index'],axis=1)\n",
    "test_model_data = model_data.iloc[np.where(model_data.日期>= pd.Timestamp('2018-01-01 00:00:00') )].reset_index().drop(['index'],axis=1)"
   ]
  },
  {
   "cell_type": "code",
   "execution_count": 324,
   "metadata": {},
   "outputs": [],
   "source": [
    "train_X = train_model_data.iloc[:,2:]\n",
    "train_Y = pd.DataFrame(train_model_data.Tom_Ind)"
   ]
  },
  {
   "cell_type": "code",
   "execution_count": 325,
   "metadata": {},
   "outputs": [],
   "source": [
    "test_X = test_model_data.iloc[:,2:]\n",
    "test_Y = pd.DataFrame(test_model_data.Tom_Ind)"
   ]
  },
  {
   "cell_type": "code",
   "execution_count": 301,
   "metadata": {},
   "outputs": [],
   "source": [
    "#train_X.dtypes.unique()"
   ]
  },
  {
   "cell_type": "code",
   "execution_count": 299,
   "metadata": {},
   "outputs": [],
   "source": [
    "#train_model_data"
   ]
  },
  {
   "cell_type": "code",
   "execution_count": 302,
   "metadata": {},
   "outputs": [],
   "source": [
    "clf = ExtraTreesClassifier()\n",
    "clf.fit(train_X.fillna(0), train_Y)\n",
    "importances = clf.feature_importances_\n",
    "#std = np.std([tree.feature_importances_ for tree in clf.estimators_],axis=0)\n",
    "indices = np.argsort(importances)[::-1]\n",
    "#model=SelectFromModel(clf, prefit=True) \n",
    "#X_new = model.transform(X)\n",
    "#Save_Column_Tree=X.columns[list(test_import)]\n",
    "#Tree_end = datetime.datetime.now()"
   ]
  },
  {
   "cell_type": "code",
   "execution_count": 378,
   "metadata": {},
   "outputs": [],
   "source": [
    "Save_Column=train_X.columns[indices[0:30]]"
   ]
  },
  {
   "cell_type": "code",
   "execution_count": 379,
   "metadata": {},
   "outputs": [],
   "source": [
    "import catboost as cxgb"
   ]
  },
  {
   "cell_type": "code",
   "execution_count": 380,
   "metadata": {},
   "outputs": [],
   "source": [
    "temp_cmodel = cxgb.CatBoostClassifier(iterations=50,depth=10,border_count=255,od_type='Iter',\n",
    "                                      logging_level='Silent',\n",
    "                                      feature_border_type='MinEntropy',random_seed=42)"
   ]
  },
  {
   "cell_type": "code",
   "execution_count": 381,
   "metadata": {},
   "outputs": [
    {
     "data": {
      "text/plain": [
       "<catboost.core.CatBoostClassifier at 0x1102f5048>"
      ]
     },
     "execution_count": 381,
     "metadata": {},
     "output_type": "execute_result"
    }
   ],
   "source": [
    "temp_cmodel.fit(train_X[Save_Column].values,train_Y.Tom_Ind.values)"
   ]
  },
  {
   "cell_type": "code",
   "execution_count": 382,
   "metadata": {},
   "outputs": [],
   "source": [
    "test_predict_prob = temp_cmodel.predict_proba(test_X[Save_Column])\n",
    "test_predict = temp_cmodel.predict(test_X[Save_Column])"
   ]
  },
  {
   "cell_type": "code",
   "execution_count": 383,
   "metadata": {},
   "outputs": [],
   "source": [
    "result = test_Y\n",
    "result['pred_prob'] = test_predict_prob[:,1]\n",
    "result['pred']=test_predict"
   ]
  },
  {
   "cell_type": "code",
   "execution_count": 384,
   "metadata": {},
   "outputs": [],
   "source": [
    "from sklearn.metrics import classification_report"
   ]
  },
  {
   "cell_type": "code",
   "execution_count": 385,
   "metadata": {},
   "outputs": [
    {
     "name": "stdout",
     "output_type": "stream",
     "text": [
      "             precision    recall  f1-score   support\n",
      "\n",
      "        0.0       0.95      0.72      0.82       112\n",
      "        1.0       0.03      0.20      0.05         5\n",
      "\n",
      "avg / total       0.91      0.70      0.79       117\n",
      "\n"
     ]
    }
   ],
   "source": [
    "print(classification_report(result.pred,result.Tom_Ind))"
   ]
  },
  {
   "cell_type": "code",
   "execution_count": 386,
   "metadata": {},
   "outputs": [],
   "source": [
    "result = result.sort_values(by=['pred_prob'],ascending=False).reset_index(drop=True)\n",
    "result['cnt']=1.0"
   ]
  },
  {
   "cell_type": "code",
   "execution_count": 387,
   "metadata": {},
   "outputs": [],
   "source": [
    "result['cumsum']=result.Tom_Ind.cumsum()\n",
    "result['cum_cnt']=result.cnt.cumsum()"
   ]
  },
  {
   "cell_type": "code",
   "execution_count": 388,
   "metadata": {},
   "outputs": [],
   "source": [
    "result['precision']=result['cumsum']/result['cum_cnt']\n",
    "result['recall'] = result['cumsum'] / result['cumsum'].max()"
   ]
  },
  {
   "cell_type": "code",
   "execution_count": 405,
   "metadata": {},
   "outputs": [],
   "source": [
    "lift_data =result[['precision','recall']].groupby(['recall']).min().reset_index()"
   ]
  },
  {
   "cell_type": "code",
   "execution_count": 409,
   "metadata": {},
   "outputs": [
    {
     "data": {
      "image/png": "[encoded data removed]",
      "text/plain": [
       "<Figure size 432x288 with 1 Axes>"
      ]
     },
     "metadata": {},
     "output_type": "display_data"
    }
   ],
   "source": [
    "import matplotlib.pyplot as plt\n",
    "plt.plot(lift_data.recall[1:],lift_data.precision[1:])\n",
    "plt.ylabel('some numbers')\n",
    "plt.show()"
   ]
  }
 ],
 "metadata": {
  "kernelspec": {
   "display_name": "Python 3",
   "language": "python",
   "name": "python3"
  },
  "language_info": {
   "codemirror_mode": {
    "name": "ipython",
    "version": 3
   },
   "file_extension": ".py",
   "mimetype": "text/x-python",
   "name": "python",
   "nbconvert_exporter": "python",
   "pygments_lexer": "ipython3",
   "version": "3.6.5"
  }
 },
 "nbformat": 4,
 "nbformat_minor": 2
}
